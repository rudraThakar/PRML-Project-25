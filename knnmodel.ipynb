{
 "cells": [
  {
   "cell_type": "markdown",
   "metadata": {},
   "source": [
    "KNN MODEL"
   ]
  },
  {
   "cell_type": "code",
   "execution_count": 1,
   "metadata": {},
   "outputs": [
    {
     "name": "stdout",
     "output_type": "stream",
     "text": [
      "Model Accuracy: 100.00%\n"
     ]
    }
   ],
   "source": [
    "import pandas as pd\n",
    "import numpy as np\n",
    "import joblib\n",
    "from sklearn.feature_extraction.text import TfidfVectorizer\n",
    "from sklearn.model_selection import train_test_split\n",
    "from sklearn.neighbors import KNeighborsClassifier\n",
    "from sklearn.metrics import accuracy_score\n",
    "\n",
    "# Sample dataset\n",
    "data = {\n",
    "    \"News\": [\n",
    "        \"government plan ban social media app india\",\n",
    "        \"india china reach new trade agreement\",\n",
    "        \"new evidence suggest world flat scientist baffle\",\n",
    "        \"india introduce new education reform improve learning\",\n",
    "        \"india richest man pledge donate billion charity\",\n",
    "        \"scientist discover cure cancer india\",\n",
    "        \"mumbai experience heavy rainfall week\",\n",
    "        \"government provide free internet citizen india\",\n",
    "        \"prime minister modi announce new farm bill parliament\",\n",
    "        \"nasa reveal india first colonize mars\",\n",
    "        \"india celebrate diwali grand firework display\",\n",
    "        \"indian economy booming expert say\",\n",
    "        \"new app let indian order food directly local restaurant\",\n",
    "        \"india cut tie neighbor country trade issue\",\n",
    "        \"yoga become global health trend say indian expert\"\n",
    "    ],\n",
    "    \"True/False\": [False, True, False, True, True, False, True, False, True, False, True, True, True, False, True]\n",
    "}\n",
    "\n",
    "# Create DataFrame\n",
    "df = pd.DataFrame(data)\n",
    "\n",
    "# Convert labels to numeric (True -> 1, False -> 0)\n",
    "df[\"True/False\"] = df[\"True/False\"].astype(int)\n",
    "\n",
    "# TF-IDF Vectorization\n",
    "vectorizer = TfidfVectorizer()\n",
    "X = vectorizer.fit_transform(df[\"News\"])\n",
    "y = df[\"True/False\"]\n",
    "\n",
    "# Train-test split\n",
    "X_train, X_test, y_train, y_test = train_test_split(X, y, test_size=0.2, random_state=42)\n",
    "\n",
    "# KNN model\n",
    "knn = KNeighborsClassifier(n_neighbors=3)\n",
    "knn.fit(X_train, y_train)\n",
    "\n",
    "# Predictions\n",
    "y_pred = knn.predict(X_test)\n",
    "\n",
    "# Accuracy\n",
    "accuracy = accuracy_score(y_test, y_pred)\n",
    "print(f\"Model Accuracy: {accuracy * 100:.2f}%\")\n"
   ]
  },
  {
   "cell_type": "code",
   "execution_count": 2,
   "metadata": {},
   "outputs": [
    {
     "name": "stdout",
     "output_type": "stream",
     "text": [
      "Prediction: False\n"
     ]
    }
   ],
   "source": [
    "# to test\n",
    "\n",
    "def predict_news(news_text):\n",
    "    news_tfidf = vectorizer.transform([news_text])  # Transform input text\n",
    "    prediction = knn.predict(news_tfidf)  # Predict using the trained model\n",
    "    return \"True\" if prediction[0] == 1 else \"False\"\n",
    "\n",
    "# Example usage\n",
    "test_news = \" china is india\"\n",
    "print(f\"Prediction: {predict_news(test_news)}\")\n"
   ]
  },
  {
   "cell_type": "code",
   "execution_count": 6,
   "metadata": {},
   "outputs": [
    {
     "data": {
      "text/plain": [
       "['knn_model.pkl']"
      ]
     },
     "execution_count": 6,
     "metadata": {},
     "output_type": "execute_result"
    }
   ],
   "source": [
    "joblib.dump(knn, 'knn_model.pkl')\n"
   ]
  },
  {
   "cell_type": "code",
   "execution_count": null,
   "metadata": {},
   "outputs": [],
   "source": []
  }
 ],
 "metadata": {
  "kernelspec": {
   "display_name": "base",
   "language": "python",
   "name": "python3"
  },
  "language_info": {
   "codemirror_mode": {
    "name": "ipython",
    "version": 3
   },
   "file_extension": ".py",
   "mimetype": "text/x-python",
   "name": "python",
   "nbconvert_exporter": "python",
   "pygments_lexer": "ipython3",
   "version": "3.12.2"
  }
 },
 "nbformat": 4,
 "nbformat_minor": 2
}
