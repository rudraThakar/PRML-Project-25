{
 "cells": [
  {
   "cell_type": "code",
   "execution_count": 14,
   "id": "5065bb3a-0b99-4eef-aa8e-1829db2a3b11",
   "metadata": {},
   "outputs": [],
   "source": [
    "import pandas as pd\n",
    "from nltk.corpus import stopwords\n",
    "import nltk\n",
    "from nltk.corpus import wordnet\n",
    "from nltk.stem import WordNetLemmatizer\n",
    "\n",
    "import re"
   ]
  },
  {
   "cell_type": "code",
   "execution_count": 15,
   "id": "e2e22f30-6716-444b-92f2-a74ccb66194a",
   "metadata": {},
   "outputs": [
    {
     "name": "stderr",
     "output_type": "stream",
     "text": [
      "[nltk_data] Downloading package stopwords to C:\\Users\\Rudra\n",
      "[nltk_data]     Thakar\\AppData\\Roaming\\nltk_data...\n",
      "[nltk_data]   Package stopwords is already up-to-date!\n",
      "[nltk_data] Downloading package wordnet to C:\\Users\\Rudra\n",
      "[nltk_data]     Thakar\\AppData\\Roaming\\nltk_data...\n",
      "[nltk_data]   Package wordnet is already up-to-date!\n",
      "[nltk_data] Downloading package omw-1.4 to C:\\Users\\Rudra\n",
      "[nltk_data]     Thakar\\AppData\\Roaming\\nltk_data...\n",
      "[nltk_data]   Package omw-1.4 is already up-to-date!\n",
      "[nltk_data] Downloading package punkt to C:\\Users\\Rudra\n",
      "[nltk_data]     Thakar\\AppData\\Roaming\\nltk_data...\n",
      "[nltk_data]   Package punkt is already up-to-date!\n"
     ]
    },
    {
     "data": {
      "text/plain": [
       "True"
      ]
     },
     "execution_count": 15,
     "metadata": {},
     "output_type": "execute_result"
    }
   ],
   "source": [
    "nltk.download('stopwords')\n",
    "# Ensure you have the necessary NLTK data\n",
    "nltk.download('wordnet')\n",
    "nltk.download('omw-1.4')  # For extended WordNet support\n",
    "nltk.download('punkt')    # For tokenization if needed\n"
   ]
  },
  {
   "cell_type": "code",
   "execution_count": 16,
   "id": "f651d5de-1999-4487-841d-c4bd5d50a0d7",
   "metadata": {},
   "outputs": [
    {
     "name": "stdout",
     "output_type": "stream",
     "text": [
      "['COVID-19' 'VIOLENCE' 'TERROR' 'ELECTION' 'GOVERNMENT' 'POLITICS' 'TRAD'\n",
      " 'MISLEADING' 'MISLEADIND']\n"
     ]
    }
   ],
   "source": [
    "df = pd.read_csv('C:/Users/Rudra Thakar/Downloads/IFND.csv', encoding='ISO-8859-1')\n",
    "print(df['Category'].unique())"
   ]
  },
  {
   "cell_type": "code",
   "execution_count": 17,
   "id": "67c6db20-8a9e-4552-9a68-d75dd400b390",
   "metadata": {},
   "outputs": [],
   "source": [
    "#There are some spelling mistakes in the category of some news. This has been solved\n",
    "df['Category'] = df['Category'].replace('MISLEADIND', 'MISLEADING')       \n",
    "df['Category'] = df['Category'].replace('TRAD', 'TRADE')"
   ]
  },
  {
   "cell_type": "code",
   "execution_count": 18,
   "id": "edf77761-9cd0-4bf9-bf6c-ac33be919ada",
   "metadata": {},
   "outputs": [
    {
     "name": "stdout",
     "output_type": "stream",
     "text": [
      "['COVID-19' 'VIOLENCE' 'TERROR' 'ELECTION' 'GOVERNMENT' 'POLITICS' 'TRADE'\n",
      " 'MISLEADING']\n"
     ]
    }
   ],
   "source": [
    "print(df['Category'].unique())"
   ]
  },
  {
   "cell_type": "code",
   "execution_count": 21,
   "id": "abce67b7-f91f-4244-b5bc-b531d6991350",
   "metadata": {},
   "outputs": [],
   "source": [
    "\n",
    "\n",
    "df.head()\n",
    "# Initialize the lemmatizer\n",
    "lemmatizer = WordNetLemmatizer()\n"
   ]
  },
  {
   "cell_type": "code",
   "execution_count": 22,
   "id": "a46c6147-f177-462c-9574-f3a129bb99f0",
   "metadata": {},
   "outputs": [],
   "source": [
    "def preprocess_text(text):\n",
    "    text = text.lower()  # Convert to lowercase\n",
    "    text = re.sub(r'\\d+', '', text)  # Remove numbers\n",
    "    text = re.sub(r'[^\\w\\s]', '', text)  # Remove punctuation\n",
    "    text = re.sub(r'[<…]+', '', text)  # Remove special characters\n",
    "    stop_words = set(stopwords.words('english'))\n",
    "    text = ' '.join(word for word in text.split() if word not in stop_words)  # Remove stopwords\n",
    "    lemmatizer = WordNetLemmatizer()\n",
    "    text = ' '.join(lemmatizer.lemmatize(word) for word in text.split())  # Lemmatization\n",
    "    text = ' '.join(text.split())  # Remove extra whitespaces\n",
    "    return text"
   ]
  },
  {
   "cell_type": "code",
   "execution_count": 23,
   "id": "5e08d65e-76e2-4786-bdc8-37826d4c5ba4",
   "metadata": {},
   "outputs": [],
   "source": [
    "df['Statement'] = df['Statement'].apply(preprocess_text)\n",
    "df['Web'] = df['Web'].apply(preprocess_text)"
   ]
  },
  {
   "cell_type": "code",
   "execution_count": 24,
   "id": "5c41e325-c465-4e6f-ae23-939534327a94",
   "metadata": {},
   "outputs": [
    {
     "data": {
      "text/html": [
       "<div>\n",
       "<style scoped>\n",
       "    .dataframe tbody tr th:only-of-type {\n",
       "        vertical-align: middle;\n",
       "    }\n",
       "\n",
       "    .dataframe tbody tr th {\n",
       "        vertical-align: top;\n",
       "    }\n",
       "\n",
       "    .dataframe thead th {\n",
       "        text-align: right;\n",
       "    }\n",
       "</style>\n",
       "<table border=\"1\" class=\"dataframe\">\n",
       "  <thead>\n",
       "    <tr style=\"text-align: right;\">\n",
       "      <th></th>\n",
       "      <th>Unnamed: 0</th>\n",
       "      <th>Statement</th>\n",
       "      <th>Web</th>\n",
       "      <th>Category</th>\n",
       "      <th>Date</th>\n",
       "      <th>Label</th>\n",
       "    </tr>\n",
       "  </thead>\n",
       "  <tbody>\n",
       "    <tr>\n",
       "      <th>0</th>\n",
       "      <td>2</td>\n",
       "      <td>praise india aarogya setu app say helped ident...</td>\n",
       "      <td>dnaindia</td>\n",
       "      <td>COVID-19</td>\n",
       "      <td>Oct-20</td>\n",
       "      <td>TRUE</td>\n",
       "    </tr>\n",
       "    <tr>\n",
       "      <th>1</th>\n",
       "      <td>3</td>\n",
       "      <td>delhi deputy u secretary state stephen biegun ...</td>\n",
       "      <td>dnaindia</td>\n",
       "      <td>VIOLENCE</td>\n",
       "      <td>Oct-20</td>\n",
       "      <td>TRUE</td>\n",
       "    </tr>\n",
       "    <tr>\n",
       "      <th>2</th>\n",
       "      <td>4</td>\n",
       "      <td>lac tension china strategy behind deliberately...</td>\n",
       "      <td>dnaindia</td>\n",
       "      <td>TERROR</td>\n",
       "      <td>Oct-20</td>\n",
       "      <td>TRUE</td>\n",
       "    </tr>\n",
       "    <tr>\n",
       "      <th>3</th>\n",
       "      <td>5</td>\n",
       "      <td>india signed document space cooperation countr...</td>\n",
       "      <td>dnaindia</td>\n",
       "      <td>COVID-19</td>\n",
       "      <td>Oct-20</td>\n",
       "      <td>TRUE</td>\n",
       "    </tr>\n",
       "    <tr>\n",
       "      <th>4</th>\n",
       "      <td>6</td>\n",
       "      <td>tamil nadu chief minister mother pass away</td>\n",
       "      <td>dnaindia</td>\n",
       "      <td>ELECTION</td>\n",
       "      <td>Oct-20</td>\n",
       "      <td>TRUE</td>\n",
       "    </tr>\n",
       "  </tbody>\n",
       "</table>\n",
       "</div>"
      ],
      "text/plain": [
       "   Unnamed: 0                                          Statement       Web  \\\n",
       "0           2  praise india aarogya setu app say helped ident...  dnaindia   \n",
       "1           3  delhi deputy u secretary state stephen biegun ...  dnaindia   \n",
       "2           4  lac tension china strategy behind deliberately...  dnaindia   \n",
       "3           5  india signed document space cooperation countr...  dnaindia   \n",
       "4           6         tamil nadu chief minister mother pass away  dnaindia   \n",
       "\n",
       "   Category    Date Label  \n",
       "0  COVID-19  Oct-20  TRUE  \n",
       "1  VIOLENCE  Oct-20  TRUE  \n",
       "2    TERROR  Oct-20  TRUE  \n",
       "3  COVID-19  Oct-20  TRUE  \n",
       "4  ELECTION  Oct-20  TRUE  "
      ]
     },
     "execution_count": 24,
     "metadata": {},
     "output_type": "execute_result"
    }
   ],
   "source": [
    "df.to_csv('preprocessed_IFND_dataset.csv', index=False)\n",
    "df.head()"
   ]
  },
  {
   "cell_type": "code",
   "execution_count": null,
   "id": "67b01286-a0e8-4cfd-a582-9ca141e127e5",
   "metadata": {},
   "outputs": [],
   "source": []
  }
 ],
 "metadata": {
  "kernelspec": {
   "display_name": "Python 3 (ipykernel)",
   "language": "python",
   "name": "python3"
  },
  "language_info": {
   "codemirror_mode": {
    "name": "ipython",
    "version": 3
   },
   "file_extension": ".py",
   "mimetype": "text/x-python",
   "name": "python",
   "nbconvert_exporter": "python",
   "pygments_lexer": "ipython3",
   "version": "3.12.4"
  }
 },
 "nbformat": 4,
 "nbformat_minor": 5
}
