{
 "cells": [
  {
   "cell_type": "code",
   "execution_count": 4,
   "metadata": {},
   "outputs": [],
   "source": [
    "import torch\n",
    "import torch.nn as nn\n",
    "import torch.optim as optim\n",
    "from sklearn.model_selection import train_test_split\n",
    "from sklearn.feature_extraction.text import CountVectorizer\n",
    "from sklearn.metrics import accuracy_score\n",
    "import pandas as pd\n"
   ]
  },
  {
   "cell_type": "code",
   "execution_count": 26,
   "metadata": {},
   "outputs": [],
   "source": [
    "df = pd.read_csv('C:/Users/Rudra Thakar/Jupyter/preprocessed_IFND_dataset.csv')\n",
    "# Load and preprocess the dataset\n",
    "# Assuming 'df' is your preprocessed DataFrame\n",
    "X = df['Statement']\n",
    "y = df['Label'].apply(lambda x: 1 if x == 'TRUE' else 0)  # Convert labels to binary (1 for true, 0 for false)\n",
    "\n",
    "# Convert text data to numerical data using CountVectorizer\n",
    "vectorizer = CountVectorizer(max_features=5000)  # Limit to top 5000 features\n",
    "X_vectorized = vectorizer.fit_transform(X).toarray()"
   ]
  },
  {
   "cell_type": "code",
   "execution_count": 27,
   "metadata": {},
   "outputs": [
    {
     "name": "stdout",
     "output_type": "stream",
     "text": [
      "Number of unique values in y: 2\n"
     ]
    }
   ],
   "source": [
    "print(f\"Number of unique values in y: {y.nunique()}\")"
   ]
  },
  {
   "cell_type": "code",
   "execution_count": 28,
   "metadata": {},
   "outputs": [],
   "source": [
    "# Split the data into training, validation, and testing sets\n",
    "X_train, X_temp, y_train, y_temp = train_test_split(X_vectorized, y, test_size=0.3, random_state=1)\n",
    "X_val, X_test, y_val, y_test = train_test_split(X_temp, y_temp, test_size=0.5, random_state=9)\n"
   ]
  },
  {
   "cell_type": "code",
   "execution_count": 29,
   "metadata": {},
   "outputs": [
    {
     "name": "stdout",
     "output_type": "stream",
     "text": [
      "14676    1\n",
      "40635    0\n",
      "35219    1\n",
      "29293    1\n",
      "47372    0\n",
      "        ..\n",
      "50057    0\n",
      "32511    1\n",
      "5192     1\n",
      "12172    1\n",
      "33003    1\n",
      "Name: Label, Length: 39699, dtype: int64\n"
     ]
    }
   ],
   "source": [
    "print(y_train)"
   ]
  },
  {
   "cell_type": "code",
   "execution_count": 30,
   "metadata": {},
   "outputs": [],
   "source": [
    "# Convert data to PyTorch tensors\n",
    "X_train_tensor = torch.tensor(X_train, dtype=torch.float32)\n",
    "X_val_tensor = torch.tensor(X_val, dtype=torch.float32)\n",
    "X_test_tensor = torch.tensor(X_test, dtype=torch.float32)\n",
    "y_train_tensor = torch.tensor(y_train.values, dtype=torch.float32).unsqueeze(1)\n",
    "y_val_tensor = torch.tensor(y_val.values, dtype=torch.float32).unsqueeze(1)\n",
    "y_test_tensor = torch.tensor(y_test.values, dtype=torch.float32).unsqueeze(1)\n"
   ]
  },
  {
   "cell_type": "code",
   "execution_count": 31,
   "metadata": {},
   "outputs": [],
   "source": [
    "# Define the ANN model\n",
    "class ANNModel(nn.Module):\n",
    "    def __init__(self, input_size):\n",
    "        super(ANNModel, self).__init__()\n",
    "        self.fc1 = nn.Linear(input_size, 128)  # First hidden layer\n",
    "        self.relu = nn.ReLU()\n",
    "        self.fc2 = nn.Linear(128, 64)  # Second hidden layer\n",
    "        self.fc3 = nn.Linear(64, 1)  # Output layer\n",
    "        self.sigmoid = nn.Sigmoid()  # Sigmoid activation for binary classification\n",
    "\n",
    "    def forward(self, x):\n",
    "        x = self.fc1(x)\n",
    "        x = self.relu(x)\n",
    "        x = self.fc2(x)\n",
    "        x = self.relu(x)\n",
    "        x = self.fc3(x)\n",
    "        x = self.sigmoid(x)\n",
    "        return x\n",
    "\n",
    "# Initialize the model, loss function, and optimizer\n",
    "input_size = X_train.shape[1]\n",
    "model = ANNModel(input_size)\n",
    "criterion = nn.BCELoss()  # Binary Cross-Entropy Loss\n",
    "optimizer = optim.Adam(model.parameters(), lr=0.001)\n"
   ]
  },
  {
   "cell_type": "code",
   "execution_count": 34,
   "metadata": {},
   "outputs": [
    {
     "name": "stdout",
     "output_type": "stream",
     "text": [
      "Epoch 1/20, Loss: 0.6581, Training Accuracy: 89.92%, Validation Accuracy: 89.69%\n",
      "Epoch 2/20, Loss: 0.6515, Training Accuracy: 90.32%, Validation Accuracy: 90.16%\n",
      "Epoch 3/20, Loss: 0.6441, Training Accuracy: 90.69%, Validation Accuracy: 90.68%\n",
      "Epoch 4/20, Loss: 0.6359, Training Accuracy: 91.16%, Validation Accuracy: 91.16%\n",
      "Epoch 5/20, Loss: 0.6270, Training Accuracy: 91.59%, Validation Accuracy: 91.48%\n",
      "Epoch 6/20, Loss: 0.6174, Training Accuracy: 91.94%, Validation Accuracy: 91.74%\n",
      "Epoch 7/20, Loss: 0.6070, Training Accuracy: 92.30%, Validation Accuracy: 91.92%\n",
      "Epoch 8/20, Loss: 0.5958, Training Accuracy: 92.62%, Validation Accuracy: 92.08%\n",
      "Epoch 9/20, Loss: 0.5838, Training Accuracy: 92.82%, Validation Accuracy: 92.19%\n",
      "Epoch 10/20, Loss: 0.5710, Training Accuracy: 92.98%, Validation Accuracy: 92.25%\n",
      "Epoch 11/20, Loss: 0.5574, Training Accuracy: 93.10%, Validation Accuracy: 92.32%\n",
      "Epoch 12/20, Loss: 0.5430, Training Accuracy: 93.24%, Validation Accuracy: 92.49%\n",
      "Epoch 13/20, Loss: 0.5279, Training Accuracy: 93.38%, Validation Accuracy: 92.61%\n",
      "Epoch 14/20, Loss: 0.5122, Training Accuracy: 93.48%, Validation Accuracy: 92.64%\n",
      "Epoch 15/20, Loss: 0.4958, Training Accuracy: 93.56%, Validation Accuracy: 92.74%\n",
      "Epoch 16/20, Loss: 0.4789, Training Accuracy: 93.63%, Validation Accuracy: 92.75%\n",
      "Epoch 17/20, Loss: 0.4616, Training Accuracy: 93.71%, Validation Accuracy: 92.77%\n",
      "Epoch 18/20, Loss: 0.4439, Training Accuracy: 93.78%, Validation Accuracy: 92.82%\n",
      "Epoch 19/20, Loss: 0.4260, Training Accuracy: 93.83%, Validation Accuracy: 92.90%\n",
      "Epoch 20/20, Loss: 0.4080, Training Accuracy: 93.90%, Validation Accuracy: 92.94%\n"
     ]
    }
   ],
   "source": [
    "# Train the model\n",
    "epochs = 20\n",
    "for epoch in range(epochs):\n",
    "    # Training phase\n",
    "    model.train()\n",
    "    optimizer.zero_grad()\n",
    "    outputs = model(X_train_tensor)\n",
    "    loss = criterion(outputs, y_train_tensor)\n",
    "    loss.backward()\n",
    "    optimizer.step()\n",
    "\n",
    "    # Calculate training accuracy\n",
    "    with torch.no_grad():\n",
    "        train_preds = (outputs > 0.5).float()\n",
    "        train_accuracy = accuracy_score(y_train_tensor.numpy(), train_preds.numpy())\n",
    "\n",
    "    # Validation phase\n",
    "    model.eval()\n",
    "    with torch.no_grad():\n",
    "        val_outputs = model(X_val_tensor)\n",
    "        val_preds = (val_outputs > 0.5).float()\n",
    "        val_accuracy = accuracy_score(y_val_tensor.numpy(), val_preds.numpy())\n",
    "\n",
    "    # Print loss, training accuracy, and validation accuracy\n",
    "    print(f'Epoch {epoch+1}/{epochs}, Loss: {loss.item():.4f}, Training Accuracy: {train_accuracy * 100:.2f}%, Validation Accuracy: {val_accuracy * 100:.2f}%')\n"
   ]
  },
  {
   "cell_type": "code",
   "execution_count": 35,
   "metadata": {},
   "outputs": [
    {
     "name": "stdout",
     "output_type": "stream",
     "text": [
      "Test Accuracy: 93.58%\n"
     ]
    }
   ],
   "source": [
    "# Evaluate the model on the test set\n",
    "model.eval()\n",
    "with torch.no_grad():\n",
    "    test_outputs = model(X_test_tensor)\n",
    "    test_preds = (test_outputs > 0.5).float()\n",
    "    test_accuracy = accuracy_score(y_test_tensor.numpy(), test_preds.numpy())\n",
    "    print(f'Test Accuracy: {test_accuracy * 100:.2f}%')"
   ]
  }
 ],
 "metadata": {
  "kernelspec": {
   "display_name": "base",
   "language": "python",
   "name": "python3"
  },
  "language_info": {
   "codemirror_mode": {
    "name": "ipython",
    "version": 3
   },
   "file_extension": ".py",
   "mimetype": "text/x-python",
   "name": "python",
   "nbconvert_exporter": "python",
   "pygments_lexer": "ipython3",
   "version": "3.12.4"
  }
 },
 "nbformat": 4,
 "nbformat_minor": 2
}
