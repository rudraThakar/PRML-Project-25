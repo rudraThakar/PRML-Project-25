{
 "cells": [
  {
   "cell_type": "code",
   "execution_count": null,
   "id": "7cc0c67f-8e85-4fa0-8c19-6d06843944e9",
   "metadata": {},
   "outputs": [],
   "source": [
    "import pandas as pd\n",
    "import matplotlib.pyplot as plt\n",
    "import seaborn as sns\n",
    "from collections import Counter\n",
    "import numpy as np"
   ]
  },
  {
   "cell_type": "code",
   "execution_count": null,
   "id": "878c2fa5-c95c-4b1e-8cce-ec786757e8d9",
   "metadata": {},
   "outputs": [],
   "source": [
    "df = pd.read_csv('C:/Users/Rudra Thakar/Jupyter/preprocessed_IFND_dataset.csv')\n",
    "df.head()"
   ]
  },
  {
   "cell_type": "code",
   "execution_count": null,
   "id": "41ef32be-8fc3-417c-aa85-802606337082",
   "metadata": {},
   "outputs": [],
   "source": [
    "print(\"Dataset Info:\")\n",
    "print(df.info())\n",
    "df.rename(columns={'Unnamed: 0': 'Serial. No'}, inplace=True)\n",
    "df.rename(columns={'Web': 'News Media'}, inplace=True)"
   ]
  },
  {
   "cell_type": "code",
   "execution_count": null,
   "id": "63c5be88-442c-48c6-a81a-3cb40c2ae290",
   "metadata": {},
   "outputs": [],
   "source": [
    "print(\"\\nMissing Values:\")\n",
    "missing_values = df.isnull().sum()\n",
    "print(missing_values)\n",
    "\n",
    "plt.figure(figsize=(8, 5))\n",
    "missing_values.plot(kind='bar', color='skyblue')\n",
    "plt.title('Missing Values per Column')\n",
    "plt.xlabel('Columns')\n",
    "plt.ylabel('Number of Missing Values')\n",
    "plt.grid(axis='y', linestyle='--', alpha=0.7)\n",
    "plt.tight_layout()\n",
    "plt.show()"
   ]
  },
  {
   "cell_type": "code",
   "execution_count": null,
   "id": "4494699b-a0e5-4e65-856a-1bd930fa269e",
   "metadata": {},
   "outputs": [],
   "source": [
    "print(\"\\nLabel Distribution:\")\n",
    "label_counts = df['Label'].value_counts()\n",
    "print(label_counts)\n",
    "\n",
    "plt.figure(figsize=(4, 4))  # Reduced figure size\n",
    "plt.pie(label_counts, labels=label_counts.index, autopct='%1.1f%%', startangle=90, colors=['#66b3ff', '#ff9999'])\n",
    "plt.title('Label Distribution (Percentage)')\n",
    "plt.axis('equal')  # Equal aspect ratio ensures pie is a circle\n",
    "plt.tight_layout()\n",
    "plt.show()"
   ]
  },
  {
   "cell_type": "code",
   "execution_count": null,
   "id": "a4703588-ec17-41a3-afc5-7d8f34bde94d",
   "metadata": {},
   "outputs": [],
   "source": [
    "df['Statement_Length'] = df['Statement'].apply(lambda x: len(str(x).split()))\n",
    "\n",
    "plt.figure(figsize=(10, 6))\n",
    "sns.kdeplot(data=df, x='Statement_Length', hue='Label', fill=False)\n",
    "plt.title('Statement Length Distribution by Label')\n",
    "plt.xlabel('Number of Words')\n",
    "plt.ylabel('Density')\n",
    "plt.show()"
   ]
  },
  {
   "cell_type": "code",
   "execution_count": null,
   "id": "07500529-b61e-44c2-b667-babb2eee3a3d",
   "metadata": {},
   "outputs": [],
   "source": [
    "df['Statement_Length'] = df['Statement'].apply(lambda x: len(str(x).split()))\n",
    "\n",
    "# Normalize the histogram by calculating relative frequencies\n",
    "plt.figure(figsize=(10, 6))\n",
    "sns.kdeplot(data=df, x='Statement_Length', hue='Label', common_norm=False)\n",
    "plt.title('Normalized Statement Length Distribution by Label')\n",
    "plt.xlabel('Number of Words')\n",
    "plt.ylabel('Density')\n",
    "plt.show()"
   ]
  },
  {
   "cell_type": "markdown",
   "id": "5dcd66eb",
   "metadata": {},
   "source": [
    "Sources Publishing Real News"
   ]
  },
  {
   "cell_type": "code",
   "execution_count": null,
   "id": "b237eef8",
   "metadata": {},
   "outputs": [],
   "source": [
    "real_order=df[df['Label']=='TRUE']['News Media'].value_counts().sort_values(ascending=False).index"
   ]
  },
  {
   "cell_type": "code",
   "execution_count": null,
   "id": "91e8e139",
   "metadata": {},
   "outputs": [],
   "source": [
    "plt.figure(figsize=(10,6))\n",
    "sns.countplot(y='News Media', data=df[df['Label']=='TRUE'],order=real_order,palette='summer')\n",
    "plt.xlabel('Count',fontsize=12)\n",
    "plt.ylabel('Source',fontsize=12)\n",
    "plt.title('Sources of Real News',fontsize=15)\n",
    "plt.show()\n"
   ]
  },
  {
   "cell_type": "markdown",
   "id": "fe283f5f",
   "metadata": {},
   "source": [
    "Sources of Fake News"
   ]
  },
  {
   "cell_type": "code",
   "execution_count": null,
   "id": "64804ca7",
   "metadata": {},
   "outputs": [],
   "source": [
    "fake_order=df[df['Label']=='Fake']['News Media'].value_counts().sort_values(ascending=False).index"
   ]
  },
  {
   "cell_type": "code",
   "execution_count": null,
   "id": "c3cb6642",
   "metadata": {},
   "outputs": [],
   "source": [
    "plt.figure(figsize=(10,6))\n",
    "sns.countplot(y='News Media',data=df[df['Label']=='Fake'],order=fake_order,palette='autumn')\n",
    "plt.xlabel('Count',fontsize=12)\n",
    "plt.ylabel('Source',fontsize=12)\n",
    "plt.title('Sources of Fake News',fontsize=20)\n",
    "plt.show()"
   ]
  },
  {
   "cell_type": "markdown",
   "id": "16c41657",
   "metadata": {},
   "source": [
    "Common Sources of Fake and Real News"
   ]
  },
  {
   "cell_type": "code",
   "execution_count": null,
   "id": "2fd8b467",
   "metadata": {},
   "outputs": [],
   "source": [
    "new=[]\n",
    "for x in df[df['Label']=='Fake']['News Media'].unique():\n",
    "    if x in df[df['Label']=='TRUE']['News Media'].unique():\n",
    "        new.append(x)\n",
    "print(new)"
   ]
  },
  {
   "cell_type": "code",
   "execution_count": null,
   "id": "13bfafa2",
   "metadata": {},
   "outputs": [],
   "source": [
    "df['common']=df['News Media'].apply(lambda x: x if x in new else 0)"
   ]
  },
  {
   "cell_type": "code",
   "execution_count": null,
   "id": "4d7374dc",
   "metadata": {},
   "outputs": [],
   "source": [
    "df1=df[df['common']!=0]"
   ]
  },
  {
   "cell_type": "code",
   "execution_count": null,
   "id": "b89cd3aa",
   "metadata": {},
   "outputs": [],
   "source": [
    "plt.figure(figsize=(10,6))\n",
    "sns.countplot(y='common',data=df1,hue='Label',palette='viridis')\n",
    "plt.xlabel('Count',fontsize=12)\n",
    "plt.ylabel('Source',fontsize=12)\n",
    "plt.legend(loc='best', title='Label',fontsize=10)\n",
    "plt.title('Common Sources of Real and Fake News',fontsize=20)\n",
    "plt.show()"
   ]
  },
  {
   "cell_type": "code",
   "execution_count": null,
   "id": "33a9d9c2",
   "metadata": {},
   "outputs": [],
   "source": [
    "true_statements = df[df['Label'] == 'TRUE']['Statement']\n",
    "fake_statements = df[df['Label'] == 'Fake']['Statement']  # Adjust 'Fake' to 'FALSE' if needed\n",
    "\n",
    "# Initialize CountVectorizer (remove stop words for cleaner results)\n",
    "vectorizer = CountVectorizer(stop_words='english', max_features=15)\n",
    "\n",
    "# Fit and transform for TRUE statements\n",
    "true_vectorized = vectorizer.fit_transform(true_statements)\n",
    "true_word_counts = true_vectorized.toarray().sum(axis=0)\n",
    "true_words = vectorizer.get_feature_names_out()\n",
    "\n",
    "# Fit and transform for Fake statements\n",
    "vectorizer = CountVectorizer(stop_words='english', max_features=15)\n",
    "fake_vectorized = vectorizer.fit_transform(fake_statements)\n",
    "fake_word_counts = fake_vectorized.toarray().sum(axis=0)\n",
    "fake_words = vectorizer.get_feature_names_out()\n",
    "\n",
    "# Create DataFrames for plotting\n",
    "true_df = pd.DataFrame({'Word': true_words, 'Count': true_word_counts}).sort_values('Count', ascending=False)\n",
    "fake_df = pd.DataFrame({'Word': fake_words, 'Count': fake_word_counts}).sort_values('Count', ascending=False)\n",
    "\n",
    "# Print the top 15 words\n",
    "print(\"Top 15 Words in TRUE News:\")\n",
    "print(true_df)\n",
    "print(\"\\nTop 15 Words in Fake News:\")\n",
    "print(fake_df)\n",
    "\n",
    "# Plot the results\n",
    "plt.figure(figsize=(12, 6))\n",
    "\n",
    "# TRUE News\n",
    "plt.subplot(1, 2, 1)\n",
    "sns.barplot(x='Count', y='Word', data=true_df, palette='Blues_d')\n",
    "plt.title('Top 15 Words in TRUE News')\n",
    "plt.xlabel('Frequency')\n",
    "plt.ylabel('Word')\n",
    "\n",
    "# Fake News\n",
    "plt.subplot(1, 2, 2)\n",
    "sns.barplot(x='Count', y='Word', data=fake_df, palette='Reds_d')\n",
    "plt.title('Top 15 Words in Fake News')\n",
    "plt.xlabel('Frequency')\n",
    "plt.ylabel('Word')\n",
    "\n",
    "plt.tight_layout()\n",
    "plt.show()"
   ]
  },
  {
   "cell_type": "code",
   "execution_count": null,
   "id": "670a2533",
   "metadata": {},
   "outputs": [],
   "source": []
  }
 ],
 "metadata": {
  "kernelspec": {
   "display_name": "base",
   "language": "python",
   "name": "python3"
  },
  "language_info": {
   "codemirror_mode": {
    "name": "ipython",
    "version": 3
   },
   "file_extension": ".py",
   "mimetype": "text/x-python",
   "name": "python",
   "nbconvert_exporter": "python",
   "pygments_lexer": "ipython3",
   "version": "3.12.2"
  }
 },
 "nbformat": 4,
 "nbformat_minor": 5
}
